{
 "cells": [
  {
   "cell_type": "code",
   "execution_count": 1,
   "metadata": {},
   "outputs": [],
   "source": [
    "import pandas as pd\n",
    "import sklearn\n",
    "import numpy as np\n",
    "from sklearn.linear_model import LinearRegression\n",
    "from sklearn.model_selection import train_test_split\n",
    "from datetime import datetime\n",
    "import pickle\n",
    "import matplotlib.pyplot as plt\n"
   ]
  },
  {
   "cell_type": "code",
   "execution_count": 2,
   "metadata": {},
   "outputs": [],
   "source": [
    "#Creating a data frame for annual global population\n",
    "world_pop=pd.read_csv('population-figures-by-country-csv_csv.csv')\n",
    "pops={}\n",
    "world_pop.drop(columns=['Country','Country_Code'],inplace=True)\n",
    "for year in  (world_pop):\n",
    "    \n",
    "    for i in world_pop[year]:\n",
    "        pops[year]=world_pop[year].sum()\n",
    "    \n",
    "\n",
    "\n",
    "world_population=pd.DataFrame(pops,index=['Population'])\n",
    "world_population=world_population.transpose()\n",
    "\n",
    "y=1960\n",
    "for i in world_population.index:\n",
    "    world_population.rename(index={i:str(y)},inplace=True)\n",
    "    y+=1\n",
    "    \n"
   ]
  },
  {
   "cell_type": "code",
   "execution_count": 3,
   "metadata": {},
   "outputs": [],
   "source": [
    "world_population['Year']=world_population.index\n",
    "world_population.set_index('Year',inplace=True)\n"
   ]
  },
  {
   "cell_type": "code",
   "execution_count": 4,
   "metadata": {},
   "outputs": [],
   "source": [
    "#Creating a data frame for annual sea levels\n",
    "sea_levels=pd.read_csv('csiro_recons_gmsl_yr_2015_csv.csv')\n",
    "sea_levels=sea_levels.rename(columns={'Time':'Year'})\n",
    "sea_levels.set_index('Year',inplace=True)\n",
    "sea_levels.drop(columns=['GMSL uncertainty'],inplace=True)\n",
    "for i,j in enumerate (sea_levels.index):\n",
    "    head,mid,tail=j.partition('-')\n",
    "    sea_levels.rename(index={sea_levels.index[i]:head},inplace=True)\n",
    "    \n",
    "\n",
    "    "
   ]
  },
  {
   "cell_type": "code",
   "execution_count": 5,
   "metadata": {},
   "outputs": [],
   "source": [
    "#Creating a better data frame for global annual temprature annomalies\n",
    "df=pd.read_csv('GLB.Ts+dSST.csv')\n",
    "\n",
    "df=df.drop(columns='Land-Ocean: Global Means')\n",
    "df=df.reset_index()\n",
    "df.drop(columns=['level_17','level_16','level_15','level_14','level_13'],inplace=True)\n",
    "df.set_index('level_0',inplace=True)\n",
    "df=df.sort_values(by='level_0',ascending =False).head(62)\n",
    "df.drop(index=['2020','2019','2018','2017','2016','2015','2014','Year'],inplace=True)\n",
    "df=df.sort_values(by='level_0')\n",
    "df.rename(columns={'level_1':'Jan','level_2':'Feb'},inplace=True)\n",
    "df=df.astype(float)\n",
    "avg=[]\n",
    "for i in df.index:\n",
    "    avg.append(df.loc[i].mean())\n",
    "time=df.index\n",
    "ndf=pd.DataFrame({'Year':time,'Avg temprature':avg}).set_index('Year')"
   ]
  },
  {
   "cell_type": "code",
   "execution_count": 6,
   "metadata": {},
   "outputs": [],
   "source": [
    "#Creating a data frame for global annual carbon dioxide levels in parts per milliion (PPM)\n",
    "\n",
    "co2=pd.read_csv('co2-annmean-mlo_csv.csv')\n",
    "co2=co2.drop(columns=['Uncertainty'])\n",
    "co2=co2.rename(columns={'Mean':'CO2 PPM'})\n",
    "co2.set_index('Year',inplace=True)\n",
    "for i,j in enumerate (co2.index):\n",
    "    head,mid,tail=j.partition('-')\n",
    "    co2.rename(index={co2.index[i]:head},inplace=True)\n"
   ]
  },
  {
   "cell_type": "code",
   "execution_count": 7,
   "metadata": {},
   "outputs": [],
   "source": [
    "#Creating a data frame for global annual temprature annomalies\n",
    "# temp=pd.read_csv('data.csv')\n",
    "\n",
    "# temp.drop(axis=[0,1,2,3],index=[0,1,2,3],inplace=True)\n",
    "# temp.rename(columns={'Global Land and Ocean Temperature Anomalies':'Year'},inplace=True)\n",
    "# temp.rename(columns={' October':'Temp anomalie'},inplace=True)\n",
    "# temp.set_index('Year',inplace=True)\n",
    "# temp['Temp anomalie']=pd.to_numeric(temp['Temp anomalie'])\n",
    "# temp\n"
   ]
  },
  {
   "cell_type": "code",
   "execution_count": 8,
   "metadata": {},
   "outputs": [],
   "source": [
    "#Here I am building the Machine learning model and saving the model with the highest accuracy\n",
    "X=pd.merge(co2,ndf,right_index=True,on='Year')\n",
    "X=pd.merge(X,world_population,right_index=True,on='Year')\n",
    "X=X.reset_index()\n",
    "X=X.set_index('Year')\n",
    "Y=sea_levels.reset_index()\n",
    "Y=Y.sort_values(by='Year',ascending=False).head(54).sort_values(by='Year',ascending=True).reset_index().drop(columns='index')\n",
    "Y=Y.set_index('Year')\n",
    "accuracy=0\n",
    "for i in range(100):\n",
    "    X_train,X_test,Y_train,Y_test=train_test_split(X,Y,test_size=0.2)\n",
    "    model=LinearRegression()\n",
    "    model.fit(X_train,Y_train)\n",
    "    acc=model.score(X_test,Y_test)\n",
    "    if acc>accuracy:\n",
    "        with open('sea level predicter.pickle','wb')as f:\n",
    "            pickle.dump(model,f)\n",
    "        accuracy=acc\n",
    "        \n",
    "\n",
    "\n"
   ]
  },
  {
   "cell_type": "code",
   "execution_count": 9,
   "metadata": {},
   "outputs": [],
   "source": [
    "#In order to make a prediction using this model, it is needed to give it information in this order: Co2 PPM, Temp anomalie,World population\n",
    "\n",
    "y2016=np.array([ 317.0,  -0.2,  3.08e+10])\n",
    "y2016=np.reshape(y2016,(-1,3))\n",
    "p=model.predict(y2016)\n"
   ]
  },
  {
   "cell_type": "code",
   "execution_count": 10,
   "metadata": {},
   "outputs": [
    {
     "data": {
      "image/png": "[encoded data removed]",
      "text/plain": [
       "<Figure size 432x288 with 1 Axes>"
      ]
     },
     "metadata": {
      "needs_background": "light"
     },
     "output_type": "display_data"
    }
   ],
   "source": [
    "#In these next two examples you can see the yearly advance of sea levels as assessed by the machine learning model\n",
    "Y_pred=model.predict(X)\n",
    "plt.scatter(X['Population'],Y)\n",
    "plt.plot(X['Population'],Y_pred,color='red')\n",
    "plt.show()"
   ]
  },
  {
   "cell_type": "code",
   "execution_count": 11,
   "metadata": {},
   "outputs": [
    {
     "data": {
      "image/png": "[encoded data removed]",
      "text/plain": [
       "<Figure size 432x288 with 1 Axes>"
      ]
     },
     "metadata": {
      "needs_background": "light"
     },
     "output_type": "display_data"
    }
   ],
   "source": [
    "plt.scatter(X['CO2 PPM'],Y)\n",
    "plt.plot(X['CO2 PPM'],Y_pred,color='red')\n",
    "plt.show()"
   ]
  }
 ],
 "metadata": {
  "kernelspec": {
   "display_name": "Python 3",
   "language": "python",
   "name": "python3"
  },
  "language_info": {
   "codemirror_mode": {
    "name": "ipython",
    "version": 3
   },
   "file_extension": ".py",
   "mimetype": "text/x-python",
   "name": "python",
   "nbconvert_exporter": "python",
   "pygments_lexer": "ipython3",
   "version": "3.8.5"
  }
 },
 "nbformat": 4,
 "nbformat_minor": 4
}
